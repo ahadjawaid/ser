{
 "cells": [
  {
   "cell_type": "code",
   "execution_count": 2,
   "id": "c335ca55",
   "metadata": {},
   "outputs": [],
   "source": [
    "from transform import * \n",
    "from pathlib import Path"
   ]
  },
  {
   "cell_type": "code",
   "execution_count": 3,
   "id": "421ac42d",
   "metadata": {},
   "outputs": [],
   "source": [
    "path = Path(\"../data\")"
   ]
  },
  {
   "cell_type": "code",
   "execution_count": 6,
   "id": "eac592ad",
   "metadata": {},
   "outputs": [
    {
     "name": "stderr",
     "output_type": "stream",
     "text": [
      "100%|██████████████████████████████████████| 2880/2880 [00:22<00:00, 126.93it/s]\n",
      "100%|██████████████████████████████████████| 2800/2800 [00:16<00:00, 166.41it/s]\n",
      "100%|██████████████████████████████████| 35000/35000 [00:01<00:00, 34469.54it/s]\n",
      "100%|████████████████████████████████████████| 480/480 [00:03<00:00, 127.90it/s]\n",
      "0it [00:00, ?it/s]\n",
      "100%|██████████████████████████████████████| 7442/7442 [00:50<00:00, 147.89it/s]\n"
     ]
    }
   ],
   "source": [
    "for p in path.ls():\n",
    "    convert_dataset(p)"
   ]
  },
  {
   "cell_type": "code",
   "execution_count": null,
   "id": "1cea32cd",
   "metadata": {},
   "outputs": [],
   "source": []
  }
 ],
 "metadata": {
  "kernelspec": {
   "display_name": "Python 3 (ipykernel)",
   "language": "python",
   "name": "python3"
  },
  "language_info": {
   "codemirror_mode": {
    "name": "ipython",
    "version": 3
   },
   "file_extension": ".py",
   "mimetype": "text/x-python",
   "name": "python",
   "nbconvert_exporter": "python",
   "pygments_lexer": "ipython3",
   "version": "3.10.9"
  }
 },
 "nbformat": 4,
 "nbformat_minor": 5
}
