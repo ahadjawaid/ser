{
 "cells": [
  {
   "cell_type": "code",
   "execution_count": 1,
   "id": "60524953",
   "metadata": {},
   "outputs": [
    {
     "name": "stderr",
     "output_type": "stream",
     "text": [
      "/home/ahad/miniconda3/envs/torch/lib/python3.10/site-packages/tqdm/auto.py:22: TqdmWarning: IProgress not found. Please update jupyter and ipywidgets. See https://ipywidgets.readthedocs.io/en/stable/user_install.html\n",
      "  from .autonotebook import tqdm as notebook_tqdm\n"
     ]
    }
   ],
   "source": [
    "import librosa \n",
    "from librosa.feature import melspectrogram\n",
    "from fastai.data.all import *\n",
    "from fastai.vision.all import *\n",
    "from torch.nn.functional import pad"
   ]
  },
  {
   "cell_type": "code",
   "execution_count": 2,
   "id": "49079864",
   "metadata": {},
   "outputs": [],
   "source": [
    "path = Path(\"../data/ESD/\")"
   ]
  },
  {
   "cell_type": "markdown",
   "id": "b532c287",
   "metadata": {},
   "source": [
    "From the readme we see that the following are the english folders"
   ]
  },
  {
   "cell_type": "code",
   "execution_count": 3,
   "id": "2dbc0803",
   "metadata": {},
   "outputs": [],
   "source": [
    "eng_actor = ['0011', '0012', '0013', '0014', '0015', '0016', '0017', '0018', '0019', '0020']"
   ]
  },
  {
   "cell_type": "code",
   "execution_count": 51,
   "id": "b66199b6",
   "metadata": {},
   "outputs": [],
   "source": [
    "@Transform\n",
    "def load_audio(path):\n",
    "    waveform, sample_rate = librosa.load(path)\n",
    "    return waveform\n",
    "\n",
    "@Transform\n",
    "def mel_transform(y):\n",
    "    return melspectrogram(y=y)\n",
    "\n",
    "@Transform\n",
    "def db_transform(mel):\n",
    "    return librosa.power_to_db(mel)"
   ]
  },
  {
   "cell_type": "code",
   "execution_count": 52,
   "id": "eb9d2a42",
   "metadata": {},
   "outputs": [],
   "source": [
    "def save_mel(mel, save_path):\n",
    "    plt.imsave(save_path, arr=mel, origin=\"lower\")\n",
    "\n",
    "def extension_to_png(path):\n",
    "    return Path(path).with_suffix(\".png\")"
   ]
  },
  {
   "cell_type": "code",
   "execution_count": 61,
   "id": "09f0b279",
   "metadata": {},
   "outputs": [],
   "source": [
    "@Transform\n",
    "def create_png(path):\n",
    "    path = Path(path)\n",
    "    png_path = Path(extension_to_png(path))\n",
    "    if not png_path.exists():\n",
    "        mel = mel_pipeline(path)\n",
    "        save_mel(mel, png_path)\n",
    "    return png_path\n",
    "\n",
    "@Transform\n",
    "def load_png(path):\n",
    "    return PILImage.create(path)\n",
    "\n",
    "@Transform\n",
    "def to_float(tens):\n",
    "    return tens.to(torch.float)\n",
    "\n",
    "@Transform\n",
    "def normalize(tens):\n",
    "    return tens.float() / 255\n",
    "\n",
    "def Pad_mel(size):\n",
    "    @Transform\n",
    "    def _inner(inputs):\n",
    "        out = []\n",
    "        for item in inputs:\n",
    "            tens, label = item\n",
    "            padded_tens = pad(tens, (0, (size-tens.size(-1))), value=0)\n",
    "            out.append((padded_tens, label))\n",
    "        return out\n",
    "    return _inner"
   ]
  },
  {
   "cell_type": "code",
   "execution_count": 62,
   "id": "e3edcff0",
   "metadata": {},
   "outputs": [],
   "source": [
    "get_audio = FileGetter(extensions=\".wav\", folders=eng_actor)\n",
    "\n",
    "def grandparent_label(path):\n",
    "    return Path(path).parent.parent.name\n",
    "\n",
    "def _parent_idxs(files, name):\n",
    "    return L([i for i, path in enumerate(files) if parent_label(path) == name])\n",
    "\n",
    "def ParentSplitter(train_name='train', valid_name='valid'):\n",
    "    def _inner(o):\n",
    "        return _parent_idxs(o, train_name), _parent_idxs(o, valid_name)\n",
    "    return _inner"
   ]
  },
  {
   "cell_type": "code",
   "execution_count": 63,
   "id": "3cd6952d",
   "metadata": {},
   "outputs": [],
   "source": [
    "categories = {\"Angry\": 0, \"Happy\": 1, \"Neutral\": 2, \"Sad\": 3, \"Surprise\": 4}"
   ]
  },
  {
   "cell_type": "code",
   "execution_count": 64,
   "id": "e9b4b9ae",
   "metadata": {},
   "outputs": [],
   "source": [
    "@Transform\n",
    "def categorize_dict(key):\n",
    "    return torch.tensor(categories[key])"
   ]
  },
  {
   "cell_type": "code",
   "execution_count": 65,
   "id": "0b5fb10e",
   "metadata": {},
   "outputs": [],
   "source": [
    "mel_pipeline = Pipeline([load_audio, mel_transform, db_transform])\n",
    "mel_images = Pipeline([create_png, load_png, image2tensor, normalize])\n",
    "label_pipeline = Pipeline([grandparent_label, categorize_dict, to_float])"
   ]
  },
  {
   "cell_type": "code",
   "execution_count": 11,
   "id": "50309c0d",
   "metadata": {},
   "outputs": [],
   "source": [
    "files = get_audio(path, folders=eng_actor)\n",
    "splits = ParentSplitter(valid_name='test')(files)\n",
    "datasets = Datasets(files, [mel_images, label_pipeline], splits=splits)"
   ]
  },
  {
   "cell_type": "code",
   "execution_count": 15,
   "id": "509687dc",
   "metadata": {},
   "outputs": [],
   "source": [
    "dls = datasets.dataloaders(bs=2, before_batch=[Pad_mel(256)])"
   ]
  },
  {
   "cell_type": "code",
   "execution_count": 16,
   "id": "85cac677",
   "metadata": {},
   "outputs": [],
   "source": [
    "# learn = vision_learner(dls, resnet18, metrics=accuracy, \n",
    "#                        n_out=len(categories), loss_func=F.cross_entropy)"
   ]
  },
  {
   "cell_type": "code",
   "execution_count": 17,
   "id": "d2b669b3",
   "metadata": {},
   "outputs": [],
   "source": [
    "# learn.fine_tune(3)"
   ]
  },
  {
   "cell_type": "code",
   "execution_count": 18,
   "id": "95e25a26",
   "metadata": {},
   "outputs": [],
   "source": [
    "from tqdm import tqdm"
   ]
  },
  {
   "cell_type": "code",
   "execution_count": 19,
   "id": "9bac0dfd",
   "metadata": {},
   "outputs": [
    {
     "name": "stderr",
     "output_type": "stream",
     "text": [
      "100%|█████████████████████████████████████| 17500/17500 [08:16<00:00, 35.24it/s]\n"
     ]
    }
   ],
   "source": [
    "for file in tqdm(files):\n",
    "    create_png(file)"
   ]
  },
  {
   "cell_type": "code",
   "execution_count": null,
   "id": "0fa8248b",
   "metadata": {},
   "outputs": [],
   "source": []
  }
 ],
 "metadata": {
  "kernelspec": {
   "display_name": "Python 3 (ipykernel)",
   "language": "python",
   "name": "python3"
  },
  "language_info": {
   "codemirror_mode": {
    "name": "ipython",
    "version": 3
   },
   "file_extension": ".py",
   "mimetype": "text/x-python",
   "name": "python",
   "nbconvert_exporter": "python",
   "pygments_lexer": "ipython3",
   "version": "3.10.9"
  }
 },
 "nbformat": 4,
 "nbformat_minor": 5
}
